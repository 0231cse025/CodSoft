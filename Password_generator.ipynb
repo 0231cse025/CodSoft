{
 "cells": [
  {
   "cell_type": "code",
   "execution_count": 8,
   "id": "7c087519-a13b-4c54-b622-7d81ffba6896",
   "metadata": {},
   "outputs": [],
   "source": [
    "import tkinter as tk \n",
    "from tkinter import messagebox\n",
    "import random\n",
    "import string\n",
    "def generate_password():\n",
    "    try:\n",
    "        length = int(entry_length.get())\n",
    "        if length <= 0:\n",
    "            raise ValueError(\"Length must be greater than 0.\")\n",
    "        characters = string.ascii_letters + string.digits + string.punctuation\n",
    "        password = ''.join(random.choice(characters) for i in range(length))\n",
    "        entry_password.delete(0,tk.END)\n",
    "        entry_password.insert(0, password)\n",
    "    except ValueError as e:\n",
    "        messagebox.showerror(\"Invalid Input\", str(e))\n",
    "root = tk.Tk()\n",
    "root.title(\"Password Generator\")\n",
    "root.config(bg=\"pink\")\n",
    "label_length = tk.Label(root, text=\"Password Length:\", bg=\"pink\",fg=\"white\", font=(\"Helvetica\", 12))\n",
    "label_length.pack(pady=10)\n",
    "entry_length = tk.Entry(root, bg=\"white\",fg=\"black\", insertbackground=\"black\")\n",
    "entry_length.pack(pady=5)\n",
    "button_generate = tk.Button(root, text=\"Generate Password\", command=generate_password, bg=\"white\", fg=\"pink\", font=(\"helvetica\", 12))\n",
    "button_generate.pack(pady=10)\n",
    "label_password = tk.Label(root, text=\"Generated Password:\",bg=\"pink\",fg=\"white\", font=(\"Helvetica\", 12))\n",
    "label_password.pack(pady=10)\n",
    "entry_password = tk.Entry(root, width=50, bg=\"white\", fg=\"black\", insertbackground=\"black\")\n",
    "entry_password.pack(pady=5)\n",
    "root.mainloop()\n",
    "\n",
    "\n",
    "\n",
    "\n",
    "        \n",
    "    "
   ]
  },
  {
   "cell_type": "code",
   "execution_count": null,
   "id": "94902c75-4907-4955-b360-da37174bca09",
   "metadata": {},
   "outputs": [],
   "source": []
  }
 ],
 "metadata": {
  "kernelspec": {
   "display_name": "Python 3 (ipykernel)",
   "language": "python",
   "name": "python3"
  },
  "language_info": {
   "codemirror_mode": {
    "name": "ipython",
    "version": 3
   },
   "file_extension": ".py",
   "mimetype": "text/x-python",
   "name": "python",
   "nbconvert_exporter": "python",
   "pygments_lexer": "ipython3",
   "version": "3.12.4"
  }
 },
 "nbformat": 4,
 "nbformat_minor": 5
}
