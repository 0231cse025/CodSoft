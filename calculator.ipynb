{
 "cells": [
  {
   "cell_type": "code",
   "execution_count": 3,
   "id": "f2a8b37b-7372-4b28-a0bf-383bea307888",
   "metadata": {},
   "outputs": [],
   "source": [
    "import tkinter as tk\n",
    "from tkinter import messagebox\n",
    "\n",
    "class CalculatorApp:\n",
    "    def __init__(self,root):\n",
    "        self.root = root\n",
    "        self.root.title(\"Simple Calculator\")\n",
    "        self.entry = tk.Entry(root, width=40, borderwidth=5, font=('Arial',14))\n",
    "        self.entry.grid(row=0, column=0, columnspan=5, padx=10, pady=10)\n",
    "        buttons = [ ('7', 1, 0), ('8', 1, 1), ('9', 1, 2), ('(', 1, 3), (')', 1, 4), ('4', 2, 0), ('5', 2, 1), ('6', 2, 2), ('*', 2, 3), ('/', 2, 4), ('1', 3, 0), ('2', 3, 1), ('3', 3, 2), ('+', 3, 3), ('-', 3, 4), ('0', 4, 0), ('.', 4, 1), ('c', 4, 2), ('=', 4, 3), ('^', 4, 4), ]\n",
    "        for (text, row, column) in buttons:\n",
    "            tk.Button(root, text=text, width=7, height=2, font=('Arial', 14),\n",
    "                      command = lambda t=text: self.handle_click(t)).grid(row=row, column=column, padx=5, pady=5)\n",
    "            root.bind('<Return>', lambda event: self.handle_click('='))\n",
    "    def handle_click(self, value):\n",
    "        current = self.entry.get()\n",
    "        if value == '=':\n",
    "            try:\n",
    "                result = eval(current)\n",
    "                self.entry.delete(0, tk.END)\n",
    "                self.entry.insert(tk.END, str(result))\n",
    "            except Exception as e:\n",
    "                messagebox.showerror(\"Error\", \"Invalid input\")\n",
    "        elif value == 'c':\n",
    "            self.clear()\n",
    "        else:\n",
    "            self.entry.insert(tk.END, value)\n",
    "    def clear(self):\n",
    "        self.entry.delete(0, tk.END)\n",
    "if __name__ == \"__main__\":\n",
    "    root = tk.Tk()\n",
    "    app = CalculatorApp(root)\n",
    "    root.mainloop()\n",
    "    \n",
    "            \n"
   ]
  },
  {
   "cell_type": "code",
   "execution_count": null,
   "id": "1a8f8060-7cbf-455c-8368-2140fcf3117f",
   "metadata": {},
   "outputs": [],
   "source": []
  }
 ],
 "metadata": {
  "kernelspec": {
   "display_name": "Python 3 (ipykernel)",
   "language": "python",
   "name": "python3"
  },
  "language_info": {
   "codemirror_mode": {
    "name": "ipython",
    "version": 3
   },
   "file_extension": ".py",
   "mimetype": "text/x-python",
   "name": "python",
   "nbconvert_exporter": "python",
   "pygments_lexer": "ipython3",
   "version": "3.12.4"
  }
 },
 "nbformat": 4,
 "nbformat_minor": 5
}
