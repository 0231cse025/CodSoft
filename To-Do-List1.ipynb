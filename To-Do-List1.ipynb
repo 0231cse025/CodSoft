{
 "cells": [
  {
   "cell_type": "code",
   "execution_count": 3,
   "id": "174bd1a4-9ced-4e54-817c-03e480698f90",
   "metadata": {},
   "outputs": [],
   "source": [
    "import tkinter as tk\n",
    "from tkinter import messagebox\n",
    "def add_task():\n",
    "    task = task_entry.get()\n",
    "    if task != \"\":\n",
    "        listbox_tasks.insert(tk.END, task)\n",
    "        task_entry.delete(0, tk.END)\n",
    "    else:\n",
    "        messagebox.showwarning(\"warning\", \"please enter a task.\")\n",
    "def delete_task():\n",
    "    try:\n",
    "        task_index = listbox_tasks.curselection()[0]\n",
    "        listbox_tasks.delete(task_index)\n",
    "    except indexerrors:\n",
    "        messagebox.showwarning(\"warning\", \"please select a task to delete.\")\n",
    "root = tk.Tk()\n",
    "root.title(\"To-Do-List App\")\n",
    "frame_tasks = tk.Frame(root)\n",
    "frame_tasks.pack(pady=10)\n",
    "listbox_tasks = tk.Listbox(frame_tasks, height=10, width=50, border=0)\n",
    "listbox_tasks.pack(side=tk.LEFT, fill=tk.BOTH)\n",
    "scrollbar_tasks = tk.Scrollbar(frame_tasks)\n",
    "scrollbar_tasks.pack(side=tk.RIGHT, fill=tk.BOTH)\n",
    "listbox_tasks.config(yscrollcommand=scrollbar_tasks.set)\n",
    "scrollbar_tasks.config(command=listbox_tasks.yview)\n",
    "task_entry = tk.Entry(root, width=50)\n",
    "task_entry.pack(pady=10)\n",
    "button_add_task = tk.Button(root, text=\"Add Task\", width=48,bg=\"black\", fg=\"white\", command=add_task)\n",
    "button_add_task.pack()\n",
    "button_delete_task = tk.Button(root, text=\"Delete Task\", width=48, bg=\"black\", fg=\"white\", command=delete_task)\n",
    "button_delete_task.pack()\n",
    "root.mainloop()\n",
    "\n",
    "\n",
    "\n"
   ]
  },
  {
   "cell_type": "code",
   "execution_count": null,
   "id": "1a4cf4ae-3769-4f27-a119-8033519ad174",
   "metadata": {},
   "outputs": [],
   "source": []
  },
  {
   "cell_type": "code",
   "execution_count": null,
   "id": "f658cba4-f822-4fb8-ad0d-f9050e7dbe2a",
   "metadata": {},
   "outputs": [],
   "source": []
  }
 ],
 "metadata": {
  "kernelspec": {
   "display_name": "Python 3 (ipykernel)",
   "language": "python",
   "name": "python3"
  },
  "language_info": {
   "codemirror_mode": {
    "name": "ipython",
    "version": 3
   },
   "file_extension": ".py",
   "mimetype": "text/x-python",
   "name": "python",
   "nbconvert_exporter": "python",
   "pygments_lexer": "ipython3",
   "version": "3.12.4"
  }
 },
 "nbformat": 4,
 "nbformat_minor": 5
}
